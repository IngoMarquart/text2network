{
 "cells": [
  {
   "cell_type": "code",
   "execution_count": null,
   "metadata": {},
   "outputs": [],
   "source": [
    "from dataclasses import dataclass\n",
    "@dataclass\n",
    "class FakeTokenizer:\n",
    "    vocab = [\"management\"]\n",
    "\n",
    "from text2network.datasets.text_datasets import *\n",
    "\n",
    "config = TrainDataConfig(\n",
    "    data_path=\"data/preprocessed/\",\n",
    "    new_word_cutoff=5,\n",
    "    val_items=5\n",
    ")\n",
    "pts = PreTrainDataSet(config)\n",
    "dataset = pts.make_dataset(\"2000\", val_items=0)\n",
    "tokenizer = FakeTokenizer()\n"
   ]
  },
  {
   "cell_type": "code",
   "execution_count": null,
   "metadata": {},
   "outputs": [],
   "source": [
    "pts.compute_length(\"2022\")"
   ]
  },
  {
   "cell_type": "code",
   "execution_count": null,
   "metadata": {},
   "outputs": [],
   "source": [
    "i"
   ]
  },
  {
   "cell_type": "code",
   "execution_count": null,
   "metadata": {},
   "outputs": [],
   "source": [
    "dataset"
   ]
  },
  {
   "cell_type": "code",
   "execution_count": null,
   "metadata": {},
   "outputs": [],
   "source": [
    "dd = pts._get_missing_freq_table(llm=\"2022\", tokenizer=tokenizer)\n",
    "dd"
   ]
  },
  {
   "cell_type": "code",
   "execution_count": null,
   "metadata": {},
   "outputs": [],
   "source": [
    "dd = pts.get_missing_tokens(llm_list=[pts.llms[0]], tokenizer=tokenizer)\n",
    "dd"
   ]
  },
  {
   "cell_type": "code",
   "execution_count": null,
   "metadata": {},
   "outputs": [],
   "source": [
    "dd = pts.get_missing_tokens(llm_list=pts.llms, tokenizer=tokenizer)\n",
    "dd"
   ]
  },
  {
   "cell_type": "code",
   "execution_count": null,
   "metadata": {},
   "outputs": [],
   "source": [
    "from config.dataclasses import LLMConfig, TrainingConfig, TrainDataConfig\n",
    "\n",
    "data_config = TrainDataConfig(\n",
    "    data_path=\"data/preprocessed/\",\n",
    "    shuffle_buffer_size=100,\n",
    "    new_word_cutoff=5,\n",
    "    val_items=5,\n",
    ")\n",
    "llm_config = LLMConfig(\n",
    "    model_name_or_path=\"bert-base-uncased\",\n",
    "    llm=\"2022\",\n",
    "    resume_from_checkpoint=None\n",
    ")\n",
    "\n",
    "config = TrainingConfig(data=data_config,llm=llm_config, max_steps=10, max_seq_length=40)"
   ]
  },
  {
   "cell_type": "code",
   "execution_count": null,
   "metadata": {},
   "outputs": [],
   "source": [
    "from text2network.functions.train_mlm import train_mlm_simple\n",
    "\n",
    "\n",
    "train_mlm_simple(config)"
   ]
  },
  {
   "cell_type": "code",
   "execution_count": null,
   "metadata": {},
   "outputs": [],
   "source": [
    "from text2network.training.bert_trainer import model_trainer\n",
    "from config.dataclasses import LLMConfig, TrainingConfig, TrainDataConfig\n",
    "\n",
    "data_config = TrainDataConfig(\n",
    "    data_path=\"data/preprocessed/\",\n",
    "    shuffle_buffer_size=100,\n",
    "    new_word_cutoff=5,\n",
    "    val_items=5,\n",
    ")\n",
    "llm_config = LLMConfig(\n",
    "    model_name_or_path=\"bert-base-uncased\",\n",
    "    resume_from_checkpoint=None\n",
    ")\n",
    "\n",
    "config = TrainingConfig(data=data_config,llm=llm_config, max_steps=10, max_seq_length=40, output_folder=\"data/output/\")\n",
    "\n",
    "trainer = model_trainer(config)\n",
    "\n",
    "\n",
    "from transformers import AutoModelForMaskedLM, AutoTokenizer\n",
    "\n",
    "\n",
    "trainer.prep_mlm_and_tokenizer()\n",
    "test_model = AutoModelForMaskedLM.from_pretrained(config.llm.model_name_or_path)\n",
    "model = AutoModelForMaskedLM.from_pretrained(trainer.model_base_folder)\n",
    "assert model.bert.embeddings.word_embeddings.num_embeddings > test_model.bert.embeddings.word_embeddings.num_embeddings\n",
    "\n",
    "test_tokenizer = AutoTokenizer.from_pretrained(trainer.tokenizer_base_folder)\n",
    "negtest_tokenizer = AutoTokenizer.from_pretrained(config.llm.model_name_or_path)\n",
    "assert test_tokenizer.vocab != negtest_tokenizer.vocab\n",
    "assert test_tokenizer.vocab[\"manager\"]==negtest_tokenizer.vocab[\"manager\"]"
   ]
  },
  {
   "cell_type": "code",
   "execution_count": null,
   "metadata": {},
   "outputs": [],
   "source": [
    "from text2network.training.bert_trainer import model_trainer\n",
    "from config.dataclasses import LLMConfig, TrainingConfig, TrainDataConfig\n",
    "\n",
    "data_config = TrainDataConfig(\n",
    "    data_path=\"data/preprocessed/\",\n",
    "    shuffle_buffer_size=100,\n",
    "    new_word_cutoff=5,\n",
    "    val_items=5,\n",
    ")\n",
    "llm_config = LLMConfig(\n",
    "    model_name_or_path=\"bert-base-uncased\",\n",
    "    resume_from_checkpoint=None\n",
    ")\n",
    "\n",
    "config = TrainingConfig(data=data_config,llm=llm_config, max_steps=10, max_seq_length=40, output_folder=\"data/output/\")\n",
    "\n",
    "trainer = model_trainer(config)\n",
    "\n",
    "trainer.train_one_model(llm=\"2022\")\n",
    "\n",
    "from transformers import AutoModelForMaskedLM, AutoTokenizer\n",
    "\n",
    "output_folder = trainer.compute_outputfolder_for_llm(config, llm=\"2022\")\n",
    "test_model = AutoModelForMaskedLM.from_pretrained(output_folder)\n",
    "test_tokenizer = AutoTokenizer.from_pretrained(output_folder)\n",
    "assert test_model.bert.embeddings.word_embeddings.num_embeddings == len(test_tokenizer.vocab)"
   ]
  },
  {
   "cell_type": "code",
   "execution_count": 1,
   "metadata": {},
   "outputs": [
    {
     "name": "stderr",
     "output_type": "stream",
     "text": [
      "/opt/homebrew/Caskroom/miniforge/base/envs/text2network/lib/python3.10/site-packages/tqdm/auto.py:21: TqdmWarning: IProgress not found. Please update jupyter and ipywidgets. See https://ipywidgets.readthedocs.io/en/stable/user_install.html\n",
      "  from .autonotebook import tqdm as notebook_tqdm\n",
      "/opt/homebrew/Caskroom/miniforge/base/envs/text2network/lib/python3.10/site-packages/transformers/optimization.py:391: FutureWarning: This implementation of AdamW is deprecated and will be removed in a future version. Use the PyTorch implementation torch.optim.AdamW instead, or set `no_deprecation_warning=True` to disable this warning\n",
      "  warnings.warn(\n",
      "  0%|          | 0/500 [00:00<?, ?it/s]You're using a BertTokenizerFast tokenizer. Please note that with a fast tokenizer, using the `__call__` method is faster than using a method to encode the text followed by a call to the `pad` method to get a padded encoding.\n",
      " 10%|█         | 50/500 [01:18<11:50,  1.58s/it]"
     ]
    },
    {
     "name": "stdout",
     "output_type": "stream",
     "text": [
      "{'loss': 1.3233, 'learning_rate': 4.5e-05, 'epoch': 49.0}\n",
      "{'eval_loss': 2.6640539169311523, 'eval_accuracy': 0.3888888888888889, 'eval_runtime': 0.1774, 'eval_samples_per_second': 28.183, 'eval_steps_per_second': 5.637, 'epoch': 49.0}\n"
     ]
    },
    {
     "name": "stderr",
     "output_type": "stream",
     "text": [
      " 20%|██        | 100/500 [02:37<10:24,  1.56s/it]"
     ]
    },
    {
     "name": "stdout",
     "output_type": "stream",
     "text": [
      "{'loss': 0.3051, 'learning_rate': 4e-05, 'epoch': 99.0}\n",
      "{'eval_loss': 2.2032418251037598, 'eval_accuracy': 0.7058823529411765, 'eval_runtime': 0.1186, 'eval_samples_per_second': 42.144, 'eval_steps_per_second': 8.429, 'epoch': 99.0}\n"
     ]
    },
    {
     "name": "stderr",
     "output_type": "stream",
     "text": [
      " 30%|███       | 150/500 [03:55<09:17,  1.59s/it]"
     ]
    },
    {
     "name": "stdout",
     "output_type": "stream",
     "text": [
      "{'loss': 0.1797, 'learning_rate': 3.5e-05, 'epoch': 149.0}\n",
      "{'eval_loss': 3.2626540660858154, 'eval_accuracy': 0.4166666666666667, 'eval_runtime': 0.1215, 'eval_samples_per_second': 41.168, 'eval_steps_per_second': 8.234, 'epoch': 149.0}\n"
     ]
    },
    {
     "name": "stderr",
     "output_type": "stream",
     "text": [
      " 40%|████      | 200/500 [05:13<07:47,  1.56s/it]"
     ]
    },
    {
     "name": "stdout",
     "output_type": "stream",
     "text": [
      "{'loss': 0.1101, 'learning_rate': 3e-05, 'epoch': 199.0}\n",
      "{'eval_loss': 3.8448433876037598, 'eval_accuracy': 0.42857142857142855, 'eval_runtime': 0.1298, 'eval_samples_per_second': 38.526, 'eval_steps_per_second': 7.705, 'epoch': 199.0}\n"
     ]
    },
    {
     "name": "stderr",
     "output_type": "stream",
     "text": [
      " 50%|█████     | 250/500 [06:31<06:27,  1.55s/it]"
     ]
    },
    {
     "name": "stdout",
     "output_type": "stream",
     "text": [
      "{'loss': 0.0641, 'learning_rate': 2.5e-05, 'epoch': 249.0}\n",
      "{'eval_loss': 3.639418363571167, 'eval_accuracy': 0.47368421052631576, 'eval_runtime': 0.1342, 'eval_samples_per_second': 37.261, 'eval_steps_per_second': 7.452, 'epoch': 249.0}\n"
     ]
    },
    {
     "name": "stderr",
     "output_type": "stream",
     "text": [
      " 60%|██████    | 300/500 [07:50<05:12,  1.56s/it]"
     ]
    },
    {
     "name": "stdout",
     "output_type": "stream",
     "text": [
      "{'loss': 0.0617, 'learning_rate': 2e-05, 'epoch': 299.0}\n",
      "{'eval_loss': 3.243757724761963, 'eval_accuracy': 0.5, 'eval_runtime': 0.1598, 'eval_samples_per_second': 31.292, 'eval_steps_per_second': 6.258, 'epoch': 299.0}\n"
     ]
    },
    {
     "name": "stderr",
     "output_type": "stream",
     "text": [
      " 70%|███████   | 350/500 [11:10<13:49,  5.53s/it]"
     ]
    },
    {
     "name": "stdout",
     "output_type": "stream",
     "text": [
      "{'loss': 0.0528, 'learning_rate': 1.5e-05, 'epoch': 349.0}\n",
      "{'eval_loss': 4.18858003616333, 'eval_accuracy': 0.4, 'eval_runtime': 0.162, 'eval_samples_per_second': 30.855, 'eval_steps_per_second': 6.171, 'epoch': 349.0}\n"
     ]
    },
    {
     "name": "stderr",
     "output_type": "stream",
     "text": [
      " 80%|████████  | 400/500 [19:35<21:56, 13.16s/it]  "
     ]
    },
    {
     "name": "stdout",
     "output_type": "stream",
     "text": [
      "{'loss': 0.0353, 'learning_rate': 1e-05, 'epoch': 399.0}\n",
      "{'eval_loss': 3.626871109008789, 'eval_accuracy': 0.47058823529411764, 'eval_runtime': 0.1444, 'eval_samples_per_second': 34.625, 'eval_steps_per_second': 6.925, 'epoch': 399.0}\n"
     ]
    },
    {
     "name": "stderr",
     "output_type": "stream",
     "text": [
      " 89%|████████▉ | 446/500 [2:19:14<11:41, 13.00s/it]    "
     ]
    }
   ],
   "source": [
    "from text2network.training.bert_trainer import model_trainer\n",
    "from config.dataclasses import LLMConfig, TrainingConfig, TrainDataConfig\n",
    "\n",
    "data_config = TrainDataConfig(\n",
    "    data_path=\"data/preprocessed/\",\n",
    "    shuffle_buffer_size=100,\n",
    "    new_word_cutoff=5,\n",
    "    val_items=5,\n",
    ")\n",
    "llm_config = LLMConfig(\n",
    "    model_name_or_path=\"bert-base-uncased\",\n",
    "    resume_from_checkpoint=None\n",
    ")\n",
    "\n",
    "config = TrainingConfig(data=data_config,llm=llm_config, gpu_batch=100,eval_steps=50, max_steps=500, max_seq_length=40, output_folder=\"data/output/\")\n",
    "\n",
    "trainer = model_trainer(config)\n",
    "\n",
    "\n",
    "trainer.train_one_model(llm=\"2022\")"
   ]
  }
 ],
 "metadata": {
  "kernelspec": {
   "display_name": "text2network",
   "language": "python",
   "name": "python3"
  },
  "language_info": {
   "codemirror_mode": {
    "name": "ipython",
    "version": 3
   },
   "file_extension": ".py",
   "mimetype": "text/x-python",
   "name": "python",
   "nbconvert_exporter": "python",
   "pygments_lexer": "ipython3",
   "version": "3.10.10"
  },
  "orig_nbformat": 4
 },
 "nbformat": 4,
 "nbformat_minor": 2
}
